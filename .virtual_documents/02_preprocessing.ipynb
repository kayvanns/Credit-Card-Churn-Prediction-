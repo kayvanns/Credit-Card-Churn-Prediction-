import pandas as pd
from sklearn.preprocessing import OneHotEncoder, OrdinalEncoder
from sklearn.compose import ColumnTransformer
from sklearn.pipeline import Pipeline


df = pd.read_csv("train.csv")


df_cleaned = df.copy()
categorical = df_cleaned.select_dtypes(include = "object")
education_order = ['Uneducated', 'High School', 'College', 'Graduate', 'Post-Graduate', 'Doctorate', 'Unknown']
income_order = income_order = ['Less than $40K', '$40K - $60K', '$60K - $80K', '$80K - $120K', '$120K +', 'Unknown']
oe = OrdinalEncoder(categories = [education_order,income_order])
ordinal = pd.DataFrame(oe.fit_transform(categorical[["Education_Level", "Income_Category"]]), columns = ["Education_Level","Income_Category"])
ordinal


ohe = OneHotEncoder(handle_unknown='ignore', sparse_output=False)
onehot = pd.DataFrame(ohe.fit_transform(categorical[["Gender", "Marital_Status", "Card_Category"]]),columns=ohe.get_feature_names_out(["Gender", "Marital_Status", "Card_Category"]),
    index=categorical.index)
onehot


df


X = pd.concat([df,ordinal, onehot], axis=1)
X.drop(columns=["Gender", "Marital_Status", "Card_Category", "Education_Level", "Income_Category", "id", "CLIENTNUM"])


X.to_csv(index="False")



