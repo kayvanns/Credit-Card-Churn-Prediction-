import pandas as pd
import matplotlib.pyplot as plt





df = pd.read_csv("train.csv")
y = df.loan_defaulted
df = df.drop(columns = "loan_defaulted")
df.head()


df.info()


y.value_counts()


df.isna().sum()





categorical_cols = df.select_dtypes(include="object")
category_values = {}
for col in (list(categorical_cols.columns)):
    values = list(categorical_cols[col].unique())
    category_values[col] = values
category_values



for col in categorical_cols.columns:
    plt.figure()
    df[col].value_counts().plot(kind='pie')


for col in categorical_cols.columns:
    ct = pd.crosstab(df[col], y, normalize = "index") 
    ct.plot(kind='bar', stacked=True, figsize=(6, 4), colormap='coolwarm')

    plt.title(f'{col} vs Loan Defaulted')
    plt.xlabel(col)
    plt.ylabel('Proportion of Customers')
    plt.legend(title='Loan Defaulted', labels=['No', 'Yes'])
    plt.xticks(rotation=90)
    plt.tight_layout()
    plt.show()


for col in categorical_cols.columns:
    print(f"\nDefault rate by {col}:")
    print(pd.crosstab(df[col], y, normalize='index') * 100)





numerical_cols = df.select_dtypes(exclude="object")
numerical_cols = numerical_cols.drop(columns=["id","CLIENTNUM"])
numerical_cols.describe()


for col in numerical_cols:
    plt.figure(figsize=(5, 3))
    plt.hist(df[col], bins=30,color='skyblue', edgecolor='black')
    plt.title(f'Distribution of {col}')
    plt.xlabel(col)
    plt.ylabel('Count')
    plt.tight_layout()
    plt.show()


numerical_cols.nunique()


for col in numerical_cols:
    plt.figure(figsize=(4, 3))
    df.groupby(y)[col].mean().plot(kind='bar')
    plt.title(f'Mean {col} by Loan Defaulted')
    plt.ylabel(col)
    plt.xlabel('Loan Defaulted')
    plt.tight_layout()
    plt.show()



