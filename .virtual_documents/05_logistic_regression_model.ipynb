import pandas as pd
from sklearn.model_selection import train_test_split
from sklearn.linear_model import LogisticRegression
from sklearn.metrics import classification_report, roc_curve, roc_auc_score
import matplotlib.pyplot as plt
from sklearn.preprocessing import OneHotEncoder, OrdinalEncoder


df = pd.read_csv("df.csv")
y = pd.read_csv("train.csv")


y = y.loan_defaulted


df


y


X_train, X_test, y_train, y_test = train_test_split(df, y, test_size = 0.2, random_state = 42)


lr = LogisticRegression(max_iter = 1000, random_state = 42)
lr.fit(X_train, y_train)
preds = lr.predict(X_test)
y_preds= pd.Series(preds)
y_proba = lr.predict_proba(X_test)[:, 1]
y_proba = pd.Series(y_proba)


report = classification_report(y_test,y_preds)
print(report)


roc_auc = roc_auc_score(y_test, y_proba)
print("ROC AUC:", roc_auc)


fpr, tpr, thresholds = roc_curve(y_test, y_proba)

plt.figure(figsize=(8, 6))
plt.plot(fpr, tpr, label=f'ROC Curve (AUC = {roc_auc:.3f})', color='blue')
plt.plot([0, 1], [0, 1], 'k--', label='Random Model')  # Diagonal line
plt.xlabel('False Positive Rate')
plt.ylabel('True Positive Rate')
plt.title('Receiver Operating Characteristic (ROC) Curve')
plt.legend(loc='lower right')
plt.grid(True)
plt.show()


test_df = pd.read_csv("test.csv")


df_cleaned = test_df.copy()
categorical = df_cleaned.select_dtypes(include = "object")
education_order = ['Uneducated', 'High School', 'College', 'Graduate', 'Post-Graduate', 'Doctorate', 'Unknown']
income_order = income_order = ['Less than $40K', '$40K - $60K', '$60K - $80K', '$80K - $120K', '$120K +', 'Unknown']
oe = OrdinalEncoder(categories = [education_order,income_order])
ordinal = pd.DataFrame(oe.fit_transform(categorical[["Education_Level", "Income_Category"]]), columns = ["Education_Level","Income_Category"])
ordinal


ohe = OneHotEncoder(handle_unknown='ignore', sparse_output=False)
onehot = pd.DataFrame(ohe.fit_transform(categorical[["Gender", "Marital_Status", "Card_Category"]]),columns=ohe.get_feature_names_out(["Gender", "Marital_Status", "Card_Category"]),
    index=categorical.index)
onehot


X = pd.concat([test_df,ordinal, onehot], axis=1)
X = X.drop(columns=["Gender", "Marital_Status", "Card_Category", "Education_Level", "Income_Category", "CLIENTNUM"])
X1 = pd.concat([X,ordinal], axis=1)


X1


X1["Avg_Transaction_Amt"] = X1["Total_Trans_Amt"]/X1["Total_Trans_Ct"]
X1['Inactive'] = (X1['Months_Inactive_12_mon'] >= 3).astype(int)
X1['Revolving_Bal_Bin'] = pd.cut(
    X1['Total_Revolving_Bal'],
    bins=[-1, 600, 1100, float('inf')],
    labels=[0, 1, 2])
X1['high_contact'] = (X1['Contacts_Count_12_mon'] >= 3).astype(int)
X1



test_preds = lr.predict(X1)
test_preds= pd.Series(test_preds)
test_proba = lr.predict_proba(X1)[:, 1]
test_proba = pd.Series(test_proba)



submission = pd.DataFrame({
    'id': ids,  
    'loan_defaulted': test_preds
})



submission.to_csv("submission_1.csv", index = False)



