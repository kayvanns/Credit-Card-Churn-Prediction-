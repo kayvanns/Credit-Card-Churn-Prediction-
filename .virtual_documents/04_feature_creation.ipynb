import pandas as pd
from sklearn.preprocessing import StandardScaler


df = pd.read_csv("X1.csv")


dff = df.drop(columns= "Unnamed: 0")
dff


dff["Avg_Transaction_Amt"] = dff["Total_Trans_Amt"]/df["Total_Trans_Ct"]
dff['Inactive'] = (dff['Months_Inactive_12_mon'] >= 3).astype(int)
dff['Revolving_Bal_Bin'] = pd.cut(
    dff['Total_Revolving_Bal'],
    bins=[-1, 600, 1100, float('inf')],
    labels=[0, 1, 2])
dff['high_contact'] = (dff['Contacts_Count_12_mon'] >= 3).astype(int)
dff


dff.to_csv("df.csv",index=False)






