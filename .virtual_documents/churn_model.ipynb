import pandas as pd
import matplotlib.pyplot as plt





df = pd.read_csv("train.csv")
y = df.loan_defaulted
df = df.drop(columns = "loan_defaulted")
df.head()


df.info()


y.value_counts()


df.isna().sum()


categorical_cols = df.select_dtypes(include="object")
category_values = {}
for col in (list(categorical_cols.columns)):
    values = list(categorical_cols[col].unique())
    category_values[col] = values
category_values






for col in categorical_cols.columns:
    ct = pd.crosstab(df[col], y, normalize = "index") 
    ct.plot(kind='bar', stacked=True, figsize=(6, 4), colormap='coolwarm')

    plt.title(f'{col} vs Loan Defaulted')
    plt.xlabel(col)
    plt.ylabel('Proportion of Customers')
    plt.legend(title='Loan Defaulted', labels=['No', 'Yes'])
    plt.xticks(rotation=90)
    plt.tight_layout()
    plt.show()








# Numerical Analysis


for col in categorical_cols.columns:
    print(f"\nDefault rate by {col}:")
    print(pd.crosstab(df[col], y, normalize='index') * 100)





numerical_cols = df.select_dtypes(exclude="object")
